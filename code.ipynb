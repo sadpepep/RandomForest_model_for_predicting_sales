{
 "cells": [
  {
   "cell_type": "markdown",
   "id": "bdae231c",
   "metadata": {},
   "source": [
    "Построить модель прогнозирования продаж, которая учитывает день недели и акцию"
   ]
  },
  {
   "cell_type": "markdown",
   "id": "d85dca61",
   "metadata": {},
   "source": [
    "Прогноз должен быть построен на январь 2024 года по всем товарам, которые участвовали в продажах в декабре 2023"
   ]
  },
  {
   "cell_type": "code",
   "execution_count": 1,
   "id": "e01839bf",
   "metadata": {},
   "outputs": [],
   "source": [
    "import pandas as pd\n",
    "from sklearn.model_selection import train_test_split\n",
    "from sklearn.metrics import mean_squared_error, r2_score\n",
    "import numpy as np\n",
    "import sklearn\n",
    "from sklearn.ensemble import RandomForestRegressor\n",
    "import itertools\n",
    "import matplotlib.pyplot as plt\n",
    "import seaborn as sns\n",
    "import random\n",
    "import math "
   ]
  },
  {
   "cell_type": "markdown",
   "id": "5a13e930",
   "metadata": {},
   "source": [
    "Предобработка данных"
   ]
  },
  {
   "cell_type": "code",
   "execution_count": 2,
   "id": "9fe04b90",
   "metadata": {},
   "outputs": [],
   "source": [
    "sales = pd.read_csv('sales_raw.csv', sep=',')\n",
    "discounts = pd.read_csv('discounts_raw.csv', sep=',')"
   ]
  },
  {
   "cell_type": "code",
   "execution_count": 3,
   "id": "5b5041e0",
   "metadata": {},
   "outputs": [
    {
     "name": "stderr",
     "output_type": "stream",
     "text": [
      "C:\\Users\\User\\AppData\\Local\\Temp\\ipykernel_14048\\440432471.py:16: SettingWithCopyWarning: \n",
      "A value is trying to be set on a copy of a slice from a DataFrame.\n",
      "Try using .loc[row_indexer,col_indexer] = value instead\n",
      "\n",
      "See the caveats in the documentation: https://pandas.pydata.org/pandas-docs/stable/user_guide/indexing.html#returning-a-view-versus-a-copy\n",
      "  data['price_dif'] = data['sale_price_before_promo'] - data['sale_price_time_promo']\n"
     ]
    }
   ],
   "source": [
    "# Преобразование даты в формат datetime\n",
    "sales['date'] = pd.to_datetime(sales['date'])\n",
    "discounts['date_start'] = pd.to_datetime(discounts['date_start'])\n",
    "discounts['date_end'] = pd.to_datetime(discounts['date_end'])\n",
    "sales['day_of_week'] = sales['date'].dt.dayofweek # столбец с днем недели (акция должна учитывать день недели)\n",
    "\n",
    "# Объединим датасет с продажами и акциями\n",
    "merged_data = pd.merge(discounts, sales,  on = 'item_id', how = 'left')\n",
    "\n",
    "# Выберем только товары, которые продавались в декабре\n",
    "sales_december = sales[(sales['date'] >= '2023-12-01') & (sales['date'] <= '2023-12-31')]\n",
    "sales_december_items = sales_december['item_id'].unique()\n",
    "data = merged_data[merged_data['item_id'].isin(sales_december_items)]\n",
    "\n",
    "# Доавим столбец с разницей в цене до и после акции\n",
    "data['price_dif'] = data['sale_price_before_promo'] - data['sale_price_time_promo']"
   ]
  },
  {
   "cell_type": "code",
   "execution_count": 4,
   "id": "b980468a",
   "metadata": {},
   "outputs": [
    {
     "name": "stderr",
     "output_type": "stream",
     "text": [
      "C:\\Users\\User\\AppData\\Local\\Temp\\ipykernel_14048\\238458090.py:10: SettingWithCopyWarning: \n",
      "A value is trying to be set on a copy of a slice from a DataFrame\n",
      "\n",
      "See the caveats in the documentation: https://pandas.pydata.org/pandas-docs/stable/user_guide/indexing.html#returning-a-view-versus-a-copy\n",
      "  data.fillna(0, inplace=True)\n"
     ]
    }
   ],
   "source": [
    "# Посмотрим на пропущенные переменные\n",
    "result = (\n",
    "    data\n",
    "    .isnull().sum()                  \n",
    "    .sort_values(ascending = False)\n",
    ")\n",
    "result[result > 0]\n",
    "\n",
    "# Пропуски данных только в promo_typeCode, заполним их нулями\n",
    "data.fillna(0, inplace=True) "
   ]
  },
  {
   "cell_type": "markdown",
   "id": "a333fce0",
   "metadata": {},
   "source": [
    "Построение модели"
   ]
  },
  {
   "cell_type": "code",
   "execution_count": 17,
   "id": "3ef0eaf0",
   "metadata": {},
   "outputs": [
    {
     "name": "stderr",
     "output_type": "stream",
     "text": [
      "C:\\Users\\User\\anaconda3\\lib\\site-packages\\sklearn\\ensemble\\_forest.py:560: UserWarning: Some inputs do not have OOB scores. This probably means too few trees were used to compute any reliable OOB estimates.\n",
      "  warn(\n"
     ]
    }
   ],
   "source": [
    "# Финальные даные для модели - оставим только item_id, promo_typeCode, date_start, qnty, day_of_week, price_dif\n",
    "work_data = data.drop(['date_end', 'date', 'sale_price_before_promo', 'sale_price_time_promo'], axis = 1)\n",
    "\n",
    "# Тест - данные с акциями после 1 января 2024\n",
    "# Треин - данные с акциями до 1 января 2024\n",
    "\n",
    "# X включает в себя: item_id, promo_typeCode, day_of_week, price_dif\n",
    "X_train = work_data[(work_data['date_start'] < '2024-01-01')].drop(['date_start', 'qnty'], axis=1)\n",
    "X_test = work_data[(work_data['date_start'] >= '2024-01-01')].drop(['date_start', 'qnty'], axis=1)\n",
    "\n",
    "# Y включает в себя: qnty\n",
    "y_train = work_data[(work_data['date_start'] < '2024-01-01')]['qnty']\n",
    "y_test = work_data[(work_data['date_start'] >= '2024-01-01')]['qnty']\n",
    "\n",
    "\n",
    "# Random Forest\n",
    "regressor = RandomForestRegressor(n_estimators=10, random_state=0, oob_score=True)\n",
    "regressor.fit(X_train, y_train)\n",
    "\n",
    "# Предсказания\n",
    "y_pred = regressor.predict(X_test)\n",
    "pred = y_pred\n",
    "actual = y_test"
   ]
  },
  {
   "cell_type": "markdown",
   "id": "e071fa66",
   "metadata": {},
   "source": [
    "Оценка качества модели"
   ]
  },
  {
   "cell_type": "code",
   "execution_count": 18,
   "id": "b93d9c5d",
   "metadata": {},
   "outputs": [
    {
     "name": "stdout",
     "output_type": "stream",
     "text": [
      "Root Mean Squared Error: 9.989364670354613\n",
      "Mean Squared Error: 99.78740651732893\n",
      "Out-of-Bag Score: 0.12117905081063363\n",
      "R-squared: 0.14511411965335785\n"
     ]
    }
   ],
   "source": [
    "mse = mean_squared_error(y_test, y_pred)\n",
    "rmse = math.sqrt(mse)\n",
    "oob_score = regressor.oob_score_\n",
    "r2 = r2_score(y_test, y_pred)\n",
    "\n",
    "print(f'Root Mean Squared Error: {rmse}') \n",
    "print(f'Mean Squared Error: {mse}') \n",
    "print(f'Out-of-Bag Score: {oob_score}')\n",
    "print(f'R-squared: {r2}') "
   ]
  },
  {
   "cell_type": "markdown",
   "id": "b659c222",
   "metadata": {},
   "source": [
    "Предсказания на январь 2024"
   ]
  },
  {
   "cell_type": "code",
   "execution_count": 7,
   "id": "045259d4",
   "metadata": {},
   "outputs": [
    {
     "name": "stderr",
     "output_type": "stream",
     "text": [
      "C:\\Users\\User\\anaconda3\\lib\\site-packages\\sklearn\\base.py:493: FutureWarning: The feature names should match those that were passed during fit. Starting version 1.2, an error will be raised.\n",
      "Feature names must be in the same order as they were in fit.\n",
      "\n",
      "  warnings.warn(message, FutureWarning)\n"
     ]
    }
   ],
   "source": [
    "# Комбинации товаров (продаваемых в декабре 2023) и дат\n",
    "january_dates = pd.date_range(start='2024-01-01', end='2024-01-31')\n",
    "all_combinations = list(itertools.product(sales_december_items, january_dates))\n",
    "january_data = pd.DataFrame(all_combinations, columns=['item_id', 'date'])\n",
    "\n",
    "january_data['day_of_week'] = january_data['date'].dt.dayofweek\n",
    "january_data['promo_typeCode'] = 0\n",
    "january_data['price_dif'] = 0\n",
    "january_predictions = regressor.predict(january_data[['item_id', 'day_of_week', 'promo_typeCode','price_dif']])\n",
    "\n",
    "january_data['qnty'] = january_predictions #Сформировали датасет\n",
    "january_data.to_csv('january_predictions.csv', sep=';', index=False)"
   ]
  },
  {
   "cell_type": "markdown",
   "id": "0e0dd190",
   "metadata": {},
   "source": [
    "Визуализируем для одного из товаров, продаваемых в декабре"
   ]
  },
  {
   "cell_type": "code",
   "execution_count": 8,
   "id": "507df311",
   "metadata": {},
   "outputs": [
    {
     "data": {
      "image/png": "[encoded data removed]",
      "text/plain": [
       "<Figure size 864x432 with 1 Axes>"
      ]
     },
     "metadata": {},
     "output_type": "display_data"
    }
   ],
   "source": [
    "item_id = random.choice(sales_december_items)\n",
    "\n",
    "dec = sales[(sales['item_id'] == item_id)]\n",
    "jan = january_data[(january_data['item_id'] == item_id)]\n",
    "combined_data  = pd.concat([dec[['date', 'qnty']], jan[['date', 'qnty']]], ignore_index=True)\n",
    "combined_data = combined_data[(combined_data['date'] > '2023-12-01')]\n",
    "\n",
    "before_2024 = combined_data[combined_data['date'] <= '2024-01-01']\n",
    "after_2024 = combined_data[combined_data['date'] > '2024-01-01']\n",
    "\n",
    "sns.set(style=\"whitegrid\")\n",
    "sns.set(style=\"whitegrid\")\n",
    "\n",
    "# Построение графика среднего значения продаж\n",
    "plt.figure(figsize=(12, 6))\n",
    "sns.lineplot(x='date', y='qnty', data=before_2024, marker='o', color='b', linewidth=2)\n",
    "sns.lineplot(x='date', y='qnty', data=after_2024, marker='o', color='r', linewidth=2)\n",
    "\n",
    "plt.title('Количество продаж по дате', fontsize=16)\n",
    "plt.xlabel('Дата', fontsize=14)\n",
    "plt.ylabel('Количество продаж', fontsize=14)\n",
    "plt.xticks(rotation=45, ha='right', fontsize=10)\n",
    "plt.yticks(fontsize=10)\n",
    "plt.tight_layout()\n",
    "plt.show()"
   ]
  }
 ],
 "metadata": {
  "kernelspec": {
   "display_name": "Python 3 (ipykernel)",
   "language": "python",
   "name": "python3"
  },
  "language_info": {
   "codemirror_mode": {
    "name": "ipython",
    "version": 3
   },
   "file_extension": ".py",
   "mimetype": "text/x-python",
   "name": "python",
   "nbconvert_exporter": "python",
   "pygments_lexer": "ipython3",
   "version": "3.9.12"
  }
 },
 "nbformat": 4,
 "nbformat_minor": 5
}
